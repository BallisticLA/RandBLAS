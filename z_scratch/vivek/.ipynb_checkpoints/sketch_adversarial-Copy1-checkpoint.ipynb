{
 "cells": [
  {
   "cell_type": "markdown",
   "metadata": {},
   "source": [
    "# Blocking Variance Test"
   ]
  },
  {
   "cell_type": "code",
   "execution_count": 1,
   "metadata": {},
   "outputs": [
    {
     "name": "stdout",
     "output_type": "stream",
     "text": [
      "Requirement already satisfied: progressbar2 in /home/riley/anaconda3/envs/rla38a/lib/python3.8/site-packages (4.0.0)\r\n",
      "Requirement already satisfied: python-utils>=3.0.0 in /home/riley/anaconda3/envs/rla38a/lib/python3.8/site-packages (from progressbar2) (3.0.0)\r\n"
     ]
    }
   ],
   "source": [
    "import numpy as np\n",
    "import scipy.sparse as sp\n",
    "import scipy.linalg as la\n",
    "import matplotlib.pyplot as plt\n",
    "!pip install progressbar2\n",
    "import progressbar\n",
    "from parla.utils.sketching import sjlt_operator\n",
    "\n",
    "# These test the ACCURACY of the sketch clustering theory\n",
    "\n",
    "# First sketch: select i.i.d. a constant # within each column\n",
    "\n",
    "data_matrix_width = 2000\n",
    "data_matrix_height = int(1e5)\n",
    "data_matrix_height_width_ratio = int(data_matrix_height / data_matrix_width)\n",
    "sketch_height = int(data_matrix_width * 3.0)\n",
    "\n",
    "#X = np.random.rand(data_matrix_height, data_matrix_width)\n",
    "X = np.tile(np.eye(data_matrix_width), data_matrix_height_width_ratio).T\n",
    "rows = np.random.randint(low=0, high=X.shape[0], size=X.shape[1])\n",
    "\n",
    "X[rows, :] *= 1e4\n",
    "\n",
    "def sketchSklearn(mat, nnz_per_column, output_dim):\n",
    "    density = nnz_per_column / output_dim\n",
    "    proj = SparseRandomProjection(n_components=output_dim, density=density)\n",
    "    return proj.fit_transform(mat.T).T\n",
    "\n",
    "def sketchParla(mat, nnz_per_column, output_dim):\n",
    "    sparse_op = sjlt_operator(output_dim, mat.shape[0], np.random.randint(0, 10000), vec_nnz=nnz_per_column)\n",
    "    return sparse_op @ mat\n",
    "\n"
   ]
  },
  {
   "cell_type": "code",
   "execution_count": 2,
   "metadata": {},
   "outputs": [],
   "source": [
    "# Condition number of A_pre = A inv(R)\n",
    "# Where R is the triangular factor from QR of S@A.\n",
    "\n",
    "def conditionNumber(A, Ahat):\n",
    "    q, r = la.qr(Ahat, mode='economic')\n",
    "    A_pre = la.solve_triangular(r, A.T, trans='T').T\n",
    "    sigma = la.svd(A_pre, compute_uv=False)\n",
    "    return sigma[0] / sigma[-1]\n",
    "\n",
    "#Distortion\n",
    "#smallest \\eta so that (1 - \\eta)|| A x || <= || S A x|| <= (1 + \\eta) || A x || \n",
    "# for all x in R^n\n",
    "\n",
    "# A distortion of eta ---> the error from preconditioned normal equations decays by\n",
    "# a factor eta at every step of a subsequent iterative LSQ method, such as CGLS\n",
    "\n",
    "# Compute eta via bisection, as long as we can verify condition for a single value of eta\n",
    "\n",
    "# (S A)' (S A) - (1 - \\eta)^2 A'A\n",
    "# and\n",
    "# (1 + \\eta)^2 A'A - (SA)'(SA)\n",
    "# need to be positive semidefinite\n",
    "\n",
    "def computeDistortion(A, Ahat, tol=0.005):\n",
    "    etaMin = 0\n",
    "    etaMax = 1\n",
    "    \n",
    "    sketched = Ahat.T @ Ahat\n",
    "    original = A.T @ A\n",
    "    \n",
    "    while etaMax - etaMin > tol: \n",
    "        bothPSD = True\n",
    "        eta = (etaMin + etaMax) / 2\n",
    "        try:\n",
    "            la.cholesky(sketched - (1 - eta) ** 2 * original)\n",
    "            la.cholesky((1 + eta) ** 2 * original - sketched)\n",
    "            pass\n",
    "        except np.linalg.LinAlgError:\n",
    "            bothPSD = False\n",
    "            \n",
    "        if bothPSD:\n",
    "            etaMax = eta\n",
    "        else:\n",
    "            etaMin = eta\n",
    "        \n",
    "    return (etaMin + etaMax) / 2\n"
   ]
  },
  {
   "cell_type": "code",
   "execution_count": 3,
   "metadata": {},
   "outputs": [
    {
     "name": "stderr",
     "output_type": "stream",
     "text": [
      "100% (10 of 10) |########################| Elapsed Time: 0:03:29 Time:  0:03:29\n",
      "100% (10 of 10) |########################| Elapsed Time: 0:03:32 Time:  0:03:32\n",
      "100% (10 of 10) |########################| Elapsed Time: 0:03:34 Time:  0:03:34\n",
      "100% (10 of 10) |########################| Elapsed Time: 0:03:35 Time:  0:03:35\n",
      "100% (10 of 10) |########################| Elapsed Time: 0:03:36 Time:  0:03:36\n",
      "100% (10 of 10) |########################| Elapsed Time: 0:03:37 Time:  0:03:37\n",
      "100% (10 of 10) |########################| Elapsed Time: 0:03:39 Time:  0:03:39\n",
      "100% (10 of 10) |########################| Elapsed Time: 0:03:40 Time:  0:03:40\n"
     ]
    }
   ],
   "source": [
    "nnz_test = [1, 2, 3, 4, 5, 6, 7, 8]\n",
    "meanCondition = []\n",
    "stdCondition = []\n",
    "meanDistortion = []\n",
    "stdDistortion = []\n",
    "\n",
    "for nnz in nnz_test:\n",
    "    conditionNumbers = []\n",
    "    distortionFactors = []\n",
    "    for i in progressbar.progressbar(range(10)):\n",
    "        Xhat = sketchParla(X, nnz, sketch_height)\n",
    "        conditionNumbers.append(conditionNumber(X, Xhat))\n",
    "        distortionFactors.append(computeDistortion(X, Xhat))\n",
    "    \n",
    "    meanCondition.append(np.mean(conditionNumbers))\n",
    "    stdCondition.append(np.std(conditionNumbers))\n",
    "    \n",
    "    meanDistortion.append(np.mean(distortionFactors))\n",
    "    stdDistortion.append(np.std(distortionFactors))\n",
    "    "
   ]
  },
  {
   "cell_type": "code",
   "execution_count": 4,
   "metadata": {},
   "outputs": [
    {
     "name": "stderr",
     "output_type": "stream",
     "text": [
      "100% (10 of 10) |########################| Elapsed Time: 0:03:45 Time:  0:03:45\n",
      "100% (10 of 10) |########################| Elapsed Time: 0:03:43 Time:  0:03:43\n",
      "100% (10 of 10) |########################| Elapsed Time: 0:03:42 Time:  0:03:42\n",
      "100% (10 of 10) |########################| Elapsed Time: 0:03:43 Time:  0:03:43\n",
      "100% (10 of 10) |########################| Elapsed Time: 0:03:44 Time:  0:03:44\n",
      "100% (10 of 10) |########################| Elapsed Time: 0:03:42 Time:  0:03:42\n",
      "100% (10 of 10) |########################| Elapsed Time: 0:03:44 Time:  0:03:44\n",
      "100% (10 of 10) |########################| Elapsed Time: 0:03:50 Time:  0:03:50\n"
     ]
    }
   ],
   "source": [
    "nnz_test = [1, 2, 3, 4, 5, 6, 7, 8]\n",
    "meanConditionRegular = []\n",
    "stdConditionRegular = []\n",
    "meanDistortionRegular = []\n",
    "stdDistortionRegular = []\n",
    "\n",
    "Xreg = np.random.standard_normal(X.shape)\n",
    "\n",
    "for nnz in nnz_test:\n",
    "    conditionNumbers = []\n",
    "    distortionFactors = []\n",
    "    for i in progressbar.progressbar(range(10)):\n",
    "        Xhat = sketchParla(Xreg, nnz, sketch_height)\n",
    "        conditionNumbers.append(conditionNumber(Xreg, Xhat))\n",
    "        distortionFactors.append(computeDistortion(Xreg, Xhat))\n",
    "    \n",
    "    meanConditionRegular.append(np.mean(conditionNumbers))\n",
    "    stdConditionRegular.append(np.std(conditionNumbers))\n",
    "    \n",
    "    meanDistortionRegular.append(np.mean(distortionFactors))\n",
    "    stdDistortionRegular.append(np.std(distortionFactors))"
   ]
  },
  {
   "cell_type": "code",
   "execution_count": 5,
   "metadata": {},
   "outputs": [
    {
     "data": {
      "image/png": "[encoded data removed]",
      "text/plain": [
       "<Figure size 432x288 with 1 Axes>"
      ]
     },
     "metadata": {
      "needs_background": "light"
     },
     "output_type": "display_data"
    }
   ],
   "source": [
    "plt.errorbar(nnz_test, meanConditionRegular, np.array(stdConditionRegular), capsize=5, label=\"Uniform Random Input\",fmt='--o')\n",
    "plt.errorbar(nnz_test, meanCondition, np.array(stdCondition), capsize=5, label=\"Adversarial Input\", fmt='--o')\n",
    "plt.xlabel(\"NNZ per Column of Sketch\")\n",
    "plt.ylabel(\"Condition Number of Result\")\n",
    "plt.grid(True)\n",
    "plt.legend()\n",
    "plt.yscale('log')\n",
    "plt.savefig(\"riley_img/condition_number.pdf\")"
   ]
  },
  {
   "cell_type": "code",
   "execution_count": 6,
   "metadata": {},
   "outputs": [
    {
     "data": {
      "image/png": "[encoded data removed]",
      "text/plain": [
       "<Figure size 432x288 with 1 Axes>"
      ]
     },
     "metadata": {
      "needs_background": "light"
     },
     "output_type": "display_data"
    }
   ],
   "source": [
    "plt.errorbar(nnz_test, meanDistortionRegular, np.array(stdDistortionRegular), capsize=5, label=\"Uniform Random Input\", fmt='--o')\n",
    "plt.errorbar(nnz_test, meanDistortion, np.array(stdDistortion), capsize=5, label=\"Adversarial Input\", fmt='--o')\n",
    "#plt.yscale('log')\n",
    "plt.xlabel(\"NNZ per Column of Sketch\")\n",
    "plt.ylabel(\"Distortion Factor of Result\")\n",
    "plt.grid(True)\n",
    "plt.legend()\n",
    "#plt.yscale('log')\n",
    "plt.savefig(\"riley_img/distortion_factor.pdf\")"
   ]
  },
  {
   "cell_type": "code",
   "execution_count": 7,
   "metadata": {},
   "outputs": [],
   "source": [
    "import pickle as pkl"
   ]
  },
  {
   "cell_type": "code",
   "execution_count": 9,
   "metadata": {},
   "outputs": [],
   "source": [
    "results = {\n",
    "    'normal': {'nnz_test': nnz_test,\n",
    "               'distortion_mean': meanDistortionRegular,\n",
    "               'distortion_std': np.array(stdDistortionRegular),\n",
    "               'cond_mean': meanConditionRegular,\n",
    "               'cond_std': np.array(stdConditionRegular)},\n",
    "    'spiked': {'nnz_test': nnz_test,\n",
    "               'distortion_mean': meanDistortion,\n",
    "               'distortion_std': np.array(stdDistortion),\n",
    "               'cond_mean': meanCondition,\n",
    "               'cond_std': np.array(stdCondition)}\n",
    "}"
   ]
  },
  {
   "cell_type": "code",
   "execution_count": 10,
   "metadata": {},
   "outputs": [],
   "source": [
    "f = open('riley_img/plot_data_other.pkl', 'wb')\n",
    "pkl.dump(results, f)\n",
    "f.close()"
   ]
  },
  {
   "cell_type": "code",
   "execution_count": null,
   "metadata": {},
   "outputs": [],
   "source": []
  }
 ],
 "metadata": {
  "kernelspec": {
   "display_name": "Python 3",
   "language": "python",
   "name": "python3"
  },
  "language_info": {
   "codemirror_mode": {
    "name": "ipython",
    "version": 3
   },
   "file_extension": ".py",
   "mimetype": "text/x-python",
   "name": "python",
   "nbconvert_exporter": "python",
   "pygments_lexer": "ipython3",
   "version": "3.8.11"
  }
 },
 "nbformat": 4,
 "nbformat_minor": 5
}
