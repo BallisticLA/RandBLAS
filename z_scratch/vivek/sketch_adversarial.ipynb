{
 "cells": [
  {
   "cell_type": "markdown",
   "metadata": {},
   "source": [
    "# Blocking Variance Test"
   ]
  },
  {
   "cell_type": "code",
   "execution_count": 274,
   "metadata": {},
   "outputs": [
    {
     "name": "stdout",
     "output_type": "stream",
     "text": [
      "Defaulting to user installation because normal site-packages is not writeable\n",
      "Requirement already satisfied: progressbar2 in ./.local/lib/python3.8/site-packages (4.0.0)\n",
      "Requirement already satisfied: python-utils>=3.0.0 in ./.local/lib/python3.8/site-packages (from progressbar2) (3.0.0)\n"
     ]
    }
   ],
   "source": [
    "import numpy as np\n",
    "import scipy.sparse as sp\n",
    "import scipy.linalg as la\n",
    "import matplotlib.pyplot as plt\n",
    "!pip install progressbar2\n",
    "import progressbar\n",
    "from parla.utils.sketching import sjlt_operator\n",
    "\n",
    "# These test the ACCURACY of the sketch clustering theory\n",
    "\n",
    "# First sketch: select i.i.d. a constant # within each column\n",
    "\n",
    "data_matrix_height_width_ratio = 100\n",
    "data_matrix_width = 100\n",
    "data_matrix_height = data_matrix_height_width_ratio * data_matrix_width\n",
    "sketch_height = int(data_matrix_width * 2.0)\n",
    "\n",
    "#X = np.random.rand(data_matrix_height, data_matrix_width)\n",
    "X = np.tile(np.eye(data_matrix_width), data_matrix_height_width_ratio).T\n",
    "rows = np.random.randint(low=0, high=X.shape[0], size=X.shape[1])\n",
    "\n",
    "X[rows, :] *= 1e4\n",
    "\n",
    "def sketchSklearn(mat, nnz_per_column, output_dim):\n",
    "    density = nnz_per_column / output_dim\n",
    "    proj = SparseRandomProjection(n_components=output_dim, density=density)\n",
    "    return proj.fit_transform(mat.T).T\n",
    "\n",
    "def sketchParla(mat, nnz_per_column, output_dim):\n",
    "    sparse_op = sjlt_operator(output_dim, mat.shape[0], np.random.randint(0, 10000), vec_nnz=nnz_per_column)\n",
    "    return sparse_op @ mat\n",
    "\n"
   ]
  },
  {
   "cell_type": "code",
   "execution_count": 264,
   "metadata": {},
   "outputs": [],
   "source": [
    "# Condition number of A_pre = A inv(R)\n",
    "# Where R is the triangular factor from QR of S@A.\n",
    "\n",
    "def conditionNumber(A, Ahat):\n",
    "    q, r = la.qr(Ahat, mode='economic')\n",
    "    A_pre = la.solve_triangular(r, A.T, trans='T').T\n",
    "    sigma = la.svd(A_pre, compute_uv=False)\n",
    "    return sigma[0] / sigma[-1]\n",
    "\n",
    "#Distortion\n",
    "#smallest \\eta so that (1 - \\eta)|| A x || <= || S A x|| <= (1 + \\eta) || A x || \n",
    "# for all x in R^n\n",
    "\n",
    "# A distortion of eta ---> the error from preconditioned normal equations decays by\n",
    "# a factor eta at every step of a subsequent iterative LSQ method, such as CGLS\n",
    "\n",
    "# Compute eta via bisection, as long as we can verify condition for a single value of eta\n",
    "\n",
    "# (S A)' (S A) - (1 - \\eta)^2 A'A\n",
    "# and\n",
    "# (1 + \\eta)^2 A'A - (SA)'(SA)\n",
    "# need to be positive semidefinite\n",
    "\n",
    "def computeDistortion(A, Ahat, tol=0.005):\n",
    "    etaMin = 0\n",
    "    etaMax = 1\n",
    "    \n",
    "    sketched = Ahat.T @ Ahat\n",
    "    original = A.T @ A\n",
    "    \n",
    "    while etaMax - etaMin > tol: \n",
    "        bothPSD = True\n",
    "        eta = (etaMin + etaMax) / 2\n",
    "        try:\n",
    "            la.cholesky(sketched - (1 - eta) ** 2 * original)\n",
    "            la.cholesky((1 + eta) ** 2 * original - sketched)\n",
    "            pass\n",
    "        except np.linalg.LinAlgError:\n",
    "            bothPSD = False\n",
    "            \n",
    "        if bothPSD:\n",
    "            etaMax = eta\n",
    "        else:\n",
    "            etaMin = eta\n",
    "        \n",
    "    return (etaMin + etaMax) / 2\n"
   ]
  },
  {
   "cell_type": "code",
   "execution_count": 275,
   "metadata": {},
   "outputs": [
    {
     "name": "stderr",
     "output_type": "stream",
     "text": [
      "100% (100 of 100) |######################| Elapsed Time: 0:00:25 Time:  0:00:25\n",
      "100% (100 of 100) |######################| Elapsed Time: 0:00:24 Time:  0:00:24\n",
      "100% (100 of 100) |######################| Elapsed Time: 0:00:24 Time:  0:00:24\n",
      "100% (100 of 100) |######################| Elapsed Time: 0:00:26 Time:  0:00:26\n",
      "100% (100 of 100) |######################| Elapsed Time: 0:00:26 Time:  0:00:26\n",
      "100% (100 of 100) |######################| Elapsed Time: 0:00:24 Time:  0:00:24\n",
      "100% (100 of 100) |######################| Elapsed Time: 0:00:24 Time:  0:00:24\n"
     ]
    }
   ],
   "source": [
    "nnz_test = [1, 3, 5, 7, 9, 11, 13]\n",
    "meanCondition = []\n",
    "stdCondition = []\n",
    "meanDistortion = []\n",
    "stdDistortion = []\n",
    "\n",
    "for nnz in nnz_test:\n",
    "    conditionNumbers = []\n",
    "    distortionFactors = []\n",
    "    for i in progressbar.progressbar(range(100)):\n",
    "        Xhat = sketchParla(X, nnz, sketch_height)\n",
    "        conditionNumbers.append(conditionNumber(X, Xhat))\n",
    "        distortionFactors.append(computeDistortion(X, Xhat))\n",
    "    \n",
    "    meanCondition.append(np.mean(conditionNumbers))\n",
    "    stdCondition.append(np.std(conditionNumbers))\n",
    "    \n",
    "    meanDistortion.append(np.mean(distortionFactors))\n",
    "    stdDistortion.append(np.std(distortionFactors))\n",
    "    "
   ]
  },
  {
   "cell_type": "code",
   "execution_count": 276,
   "metadata": {},
   "outputs": [
    {
     "name": "stderr",
     "output_type": "stream",
     "text": [
      "100% (100 of 100) |######################| Elapsed Time: 0:00:25 Time:  0:00:25\n",
      "100% (100 of 100) |######################| Elapsed Time: 0:00:25 Time:  0:00:25\n",
      "100% (100 of 100) |######################| Elapsed Time: 0:00:24 Time:  0:00:24\n",
      "100% (100 of 100) |######################| Elapsed Time: 0:00:25 Time:  0:00:25\n",
      "100% (100 of 100) |######################| Elapsed Time: 0:00:25 Time:  0:00:25\n",
      "100% (100 of 100) |######################| Elapsed Time: 0:00:25 Time:  0:00:25\n",
      "100% (100 of 100) |######################| Elapsed Time: 0:00:25 Time:  0:00:25\n"
     ]
    }
   ],
   "source": [
    "nnz_test = [1, 3, 5, 7, 9, 11, 13]\n",
    "meanConditionRegular = []\n",
    "stdConditionRegular = []\n",
    "meanDistortionRegular = []\n",
    "stdDistortionRegular = []\n",
    "\n",
    "Xreg = np.random.rand(X.shape[0], X.shape[1]) * 1e4\n",
    "\n",
    "for nnz in nnz_test:\n",
    "    conditionNumbers = []\n",
    "    distortionFactors = []\n",
    "    for i in progressbar.progressbar(range(100)):\n",
    "        Xhat = sketchParla(Xreg, nnz, sketch_height)\n",
    "        conditionNumbers.append(conditionNumber(Xreg, Xhat))\n",
    "        distortionFactors.append(computeDistortion(Xreg, Xhat))\n",
    "    \n",
    "    meanConditionRegular.append(np.mean(conditionNumbers))\n",
    "    stdConditionRegular.append(np.std(conditionNumbers))\n",
    "    \n",
    "    meanDistortionRegular.append(np.mean(distortionFactors))\n",
    "    stdDistortionRegular.append(np.std(distortionFactors))"
   ]
  },
  {
   "cell_type": "code",
   "execution_count": 280,
   "metadata": {},
   "outputs": [
    {
     "data": {
      "image/png": "[encoded data removed]",
      "text/plain": [
       "<Figure size 432x288 with 1 Axes>"
      ]
     },
     "metadata": {
      "needs_background": "light"
     },
     "output_type": "display_data"
    }
   ],
   "source": [
    "plt.errorbar(nnz_test[1:], meanConditionRegular[1:], np.array(stdConditionRegular)[1:], capsize=5, label=\"Uniform Random Input\",fmt='--o')\n",
    "plt.errorbar(nnz_test[1:], meanCondition[1:], np.array(stdCondition)[1:], capsize=5, label=\"Adversarial Input\", fmt='--o')\n",
    "plt.xlabel(\"NNZ per Column of Sketch\")\n",
    "plt.ylabel(\"Condition Number of Result\")\n",
    "plt.grid(True)\n",
    "plt.legend()\n",
    "plt.yscale('log')\n",
    "plt.savefig(\"riley_img/condition_number.pdf\")"
   ]
  },
  {
   "cell_type": "code",
   "execution_count": 282,
   "metadata": {},
   "outputs": [
    {
     "data": {
      "image/png": "[encoded data removed]",
      "text/plain": [
       "<Figure size 432x288 with 1 Axes>"
      ]
     },
     "metadata": {
      "needs_background": "light"
     },
     "output_type": "display_data"
    }
   ],
   "source": [
    "plt.errorbar(nnz_test, meanDistortionRegular, np.array(stdDistortionRegular), capsize=5, label=\"Uniform Random Input\", fmt='--o')\n",
    "plt.errorbar(nnz_test, meanDistortion, np.array(stdDistortion), capsize=5, label=\"Adversarial Input\", fmt='--o')\n",
    "#plt.yscale('log')\n",
    "plt.xlabel(\"NNZ per Column of Sketch\")\n",
    "plt.ylabel(\"Distortion Factor of Result\")\n",
    "plt.grid(True)\n",
    "plt.legend()\n",
    "plt.yscale('log')\n",
    "plt.savefig(\"riley_img/distortion_factor.pdf\")"
   ]
  },
  {
   "cell_type": "code",
   "execution_count": null,
   "metadata": {},
   "outputs": [],
   "source": []
  }
 ],
 "metadata": {
  "kernelspec": {
   "display_name": "Python 3",
   "language": "python",
   "name": "python3"
  },
  "language_info": {
   "codemirror_mode": {
    "name": "ipython",
    "version": 3
   },
   "file_extension": ".py",
   "mimetype": "text/x-python",
   "name": "python",
   "nbconvert_exporter": "python",
   "pygments_lexer": "ipython3",
   "version": "3.8.11"
  }
 },
 "nbformat": 4,
 "nbformat_minor": 5
}
