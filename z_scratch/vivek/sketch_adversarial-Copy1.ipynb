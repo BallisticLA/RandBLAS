{
 "cells": [
  {
   "cell_type": "markdown",
   "metadata": {},
   "source": [
    "# Blocking Variance Test"
   ]
  },
  {
   "cell_type": "code",
   "execution_count": 1,
   "metadata": {},
   "outputs": [
    {
     "name": "stdout",
     "output_type": "stream",
     "text": [
      "Requirement already satisfied: progressbar2 in /home/riley/anaconda3/envs/rla38a/lib/python3.8/site-packages (4.0.0)\r\n",
      "Requirement already satisfied: python-utils>=3.0.0 in /home/riley/anaconda3/envs/rla38a/lib/python3.8/site-packages (from progressbar2) (3.0.0)\r\n"
     ]
    }
   ],
   "source": [
    "import numpy as np\n",
    "import scipy.sparse as sp\n",
    "import scipy.linalg as la\n",
    "import matplotlib.pyplot as plt\n",
    "!pip install progressbar2\n",
    "import progressbar\n",
    "from parla.utils.sketching import sjlt_operator\n",
    "\n",
    "# These test the ACCURACY of the sketch clustering theory\n",
    "\n",
    "# First sketch: select i.i.d. a constant # within each column\n",
    "\n",
    "data_matrix_width = 2000\n",
    "data_matrix_height = int(1e5)\n",
    "data_matrix_height_width_ratio = int(data_matrix_height / data_matrix_width)\n",
    "sketch_height = int(data_matrix_width * 3.0)\n",
    "\n",
    "#X = np.random.rand(data_matrix_height, data_matrix_width)\n",
    "X = np.tile(np.eye(data_matrix_width), data_matrix_height_width_ratio).T\n",
    "rows = np.random.randint(low=0, high=X.shape[0], size=X.shape[1])\n",
    "\n",
    "X[rows, :] *= 1e4\n",
    "\n",
    "def sketchSklearn(mat, nnz_per_column, output_dim):\n",
    "    density = nnz_per_column / output_dim\n",
    "    proj = SparseRandomProjection(n_components=output_dim, density=density)\n",
    "    return proj.fit_transform(mat.T).T\n",
    "\n",
    "def sketchParla(mat, nnz_per_column, output_dim):\n",
    "    sparse_op = sjlt_operator(output_dim, mat.shape[0], np.random.randint(0, 10000), vec_nnz=nnz_per_column)\n",
    "    return sparse_op @ mat\n",
    "\n"
   ]
  },
  {
   "cell_type": "code",
   "execution_count": 2,
   "metadata": {},
   "outputs": [],
   "source": [
    "# Condition number of A_pre = A inv(R)\n",
    "# Where R is the triangular factor from QR of S@A.\n",
    "\n",
    "def conditionNumber(A, Ahat):\n",
    "    q, r = la.qr(Ahat, mode='economic')\n",
    "    A_pre = la.solve_triangular(r, A.T, trans='T').T\n",
    "    sigma = la.svd(A_pre, compute_uv=False)\n",
    "    return sigma[0] / sigma[-1]\n",
    "\n",
    "#Distortion\n",
    "#smallest \\eta so that (1 - \\eta)|| A x || <= || S A x|| <= (1 + \\eta) || A x || \n",
    "# for all x in R^n\n",
    "\n",
    "# A distortion of eta ---> the error from preconditioned normal equations decays by\n",
    "# a factor eta at every step of a subsequent iterative LSQ method, such as CGLS\n",
    "\n",
    "# Compute eta via bisection, as long as we can verify condition for a single value of eta\n",
    "\n",
    "# (S A)' (S A) - (1 - \\eta)^2 A'A\n",
    "# and\n",
    "# (1 + \\eta)^2 A'A - (SA)'(SA)\n",
    "# need to be positive semidefinite\n",
    "\n",
    "def computeDistortion(A, Ahat, tol=0.005):\n",
    "    etaMin = 0\n",
    "    etaMax = 1\n",
    "    \n",
    "    sketched = Ahat.T @ Ahat\n",
    "    original = A.T @ A\n",
    "    \n",
    "    while etaMax - etaMin > tol: \n",
    "        bothPSD = True\n",
    "        eta = (etaMin + etaMax) / 2\n",
    "        try:\n",
    "            la.cholesky(sketched - (1 - eta) ** 2 * original)\n",
    "            la.cholesky((1 + eta) ** 2 * original - sketched)\n",
    "            pass\n",
    "        except np.linalg.LinAlgError:\n",
    "            bothPSD = False\n",
    "            \n",
    "        if bothPSD:\n",
    "            etaMax = eta\n",
    "        else:\n",
    "            etaMin = eta\n",
    "        \n",
    "    return (etaMin + etaMax) / 2\n"
   ]
  },
  {
   "cell_type": "code",
   "execution_count": 3,
   "metadata": {},
   "outputs": [
    {
     "name": "stderr",
     "output_type": "stream",
     "text": [
      "100% (10 of 10) |########################| Elapsed Time: 0:03:29 Time:  0:03:29\n",
      "100% (10 of 10) |########################| Elapsed Time: 0:03:32 Time:  0:03:32\n",
      "100% (10 of 10) |########################| Elapsed Time: 0:03:34 Time:  0:03:34\n",
      "100% (10 of 10) |########################| Elapsed Time: 0:03:35 Time:  0:03:35\n",
      "100% (10 of 10) |########################| Elapsed Time: 0:03:36 Time:  0:03:36\n",
      "100% (10 of 10) |########################| Elapsed Time: 0:03:37 Time:  0:03:37\n",
      "100% (10 of 10) |########################| Elapsed Time: 0:03:39 Time:  0:03:39\n",
      "100% (10 of 10) |########################| Elapsed Time: 0:03:40 Time:  0:03:40\n"
     ]
    }
   ],
   "source": [
    "nnz_test = [1, 2, 3, 4, 5, 6, 7, 8]\n",
    "meanCondition = []\n",
    "stdCondition = []\n",
    "meanDistortion = []\n",
    "stdDistortion = []\n",
    "\n",
    "for nnz in nnz_test:\n",
    "    conditionNumbers = []\n",
    "    distortionFactors = []\n",
    "    for i in progressbar.progressbar(range(10)):\n",
    "        Xhat = sketchParla(X, nnz, sketch_height)\n",
    "        conditionNumbers.append(conditionNumber(X, Xhat))\n",
    "        distortionFactors.append(computeDistortion(X, Xhat))\n",
    "    \n",
    "    meanCondition.append(np.mean(conditionNumbers))\n",
    "    stdCondition.append(np.std(conditionNumbers))\n",
    "    \n",
    "    meanDistortion.append(np.mean(distortionFactors))\n",
    "    stdDistortion.append(np.std(distortionFactors))\n",
    "    "
   ]
  },
  {
   "cell_type": "code",
   "execution_count": 4,
   "metadata": {},
   "outputs": [
    {
     "name": "stderr",
     "output_type": "stream",
     "text": [
      "100% (10 of 10) |########################| Elapsed Time: 0:03:45 Time:  0:03:45\n",
      "100% (10 of 10) |########################| Elapsed Time: 0:03:43 Time:  0:03:43\n",
      "100% (10 of 10) |########################| Elapsed Time: 0:03:42 Time:  0:03:42\n",
      "100% (10 of 10) |########################| Elapsed Time: 0:03:43 Time:  0:03:43\n",
      "100% (10 of 10) |########################| Elapsed Time: 0:03:44 Time:  0:03:44\n",
      "100% (10 of 10) |########################| Elapsed Time: 0:03:42 Time:  0:03:42\n",
      "100% (10 of 10) |########################| Elapsed Time: 0:03:44 Time:  0:03:44\n",
      "100% (10 of 10) |########################| Elapsed Time: 0:03:50 Time:  0:03:50\n"
     ]
    }
   ],
   "source": [
    "nnz_test = [1, 2, 3, 4, 5, 6, 7, 8]\n",
    "meanConditionRegular = []\n",
    "stdConditionRegular = []\n",
    "meanDistortionRegular = []\n",
    "stdDistortionRegular = []\n",
    "\n",
    "Xreg = np.random.standard_normal(X.shape)\n",
    "\n",
    "for nnz in nnz_test:\n",
    "    conditionNumbers = []\n",
    "    distortionFactors = []\n",
    "    for i in progressbar.progressbar(range(10)):\n",
    "        Xhat = sketchParla(Xreg, nnz, sketch_height)\n",
    "        conditionNumbers.append(conditionNumber(Xreg, Xhat))\n",
    "        distortionFactors.append(computeDistortion(Xreg, Xhat))\n",
    "    \n",
    "    meanConditionRegular.append(np.mean(conditionNumbers))\n",
    "    stdConditionRegular.append(np.std(conditionNumbers))\n",
    "    \n",
    "    meanDistortionRegular.append(np.mean(distortionFactors))\n",
    "    stdDistortionRegular.append(np.std(distortionFactors))"
   ]
  },
  {
   "cell_type": "code",
   "execution_count": 28,
   "metadata": {},
   "outputs": [],
   "source": [
    "SMALL_SIZE = 14\n",
    "MEDIUM_SIZE = 14\n",
    "BIGGER_SIZE = 20\n",
    "\n",
    "plt.rc('font', size=SMALL_SIZE)          # controls default text sizes\n",
    "plt.rc('axes', titlesize=SMALL_SIZE)     # fontsize of the axes title\n",
    "plt.rc('axes', labelsize=MEDIUM_SIZE)    # fontsize of the x and y labels\n",
    "plt.rc('xtick', labelsize=SMALL_SIZE)    # fontsize of the tick labels\n",
    "plt.rc('ytick', labelsize=SMALL_SIZE)    # fontsize of the tick labels\n",
    "plt.rc('legend', fontsize=SMALL_SIZE)    # legend fontsize\n",
    "plt.rc('figure', titlesize=BIGGER_SIZE)  # fontsize of the figure title\n",
    "\n"
   ]
  },
  {
   "cell_type": "code",
   "execution_count": 41,
   "metadata": {},
   "outputs": [
    {
     "data": {
      "image/png": "[encoded data removed]",
      "text/plain": [
       "<Figure size 432x288 with 1 Axes>"
      ]
     },
     "metadata": {
      "needs_background": "light"
     },
     "output_type": "display_data"
    }
   ],
   "source": [
    "plt.errorbar(nnz_test, meanConditionRegular, np.array(stdConditionRegular), label=\"Gaussian A\",fmt='k--o')\n",
    "plt.errorbar(nnz_test, meanCondition, np.array(stdCondition), label=\"Spiked A\", fmt='r--o')\n",
    "plt.xlabel(\"nonzeros per column of S\")\n",
    "plt.ylabel(\"Condition Number of A*inv(R)\")\n",
    "plt.grid(True)\n",
    "plt.legend()\n",
    "plt.yscale('log')\n",
    "plt.savefig(\"riley_img/condition_number.pdf\")"
   ]
  },
  {
   "cell_type": "code",
   "execution_count": 40,
   "metadata": {},
   "outputs": [
    {
     "data": {
      "image/png": "[encoded data removed]",
      "text/plain": [
       "<Figure size 432x288 with 1 Axes>"
      ]
     },
     "metadata": {
      "needs_background": "light"
     },
     "output_type": "display_data"
    }
   ],
   "source": [
    "plt.errorbar(nnz_test, meanDistortionRegular, np.array(stdDistortionRegular), label=\"Gaussian A\", fmt='k--o')\n",
    "plt.errorbar(nnz_test, meanDistortion, np.array(stdDistortion), label=\"Spiked A\", fmt='r--o')\n",
    "#plt.yscale('log')\n",
    "plt.xlabel(\"nonzeros per column of S\")\n",
    "plt.ylabel(\"Distortion of Range(A)\")\n",
    "plt.grid(True)\n",
    "plt.legend()\n",
    "#plt.yscale('log')\n",
    "plt.savefig(\"riley_img/distortion_factor.pdf\")"
   ]
  },
  {
   "cell_type": "code",
   "execution_count": 7,
   "metadata": {},
   "outputs": [],
   "source": [
    "import pickle as pkl"
   ]
  },
  {
   "cell_type": "code",
   "execution_count": 42,
   "metadata": {},
   "outputs": [],
   "source": [
    "results = {\n",
    "    'normal': {'nnz_test': nnz_test,\n",
    "               'distortion_mean': meanDistortionRegular,\n",
    "               'distortion_std': np.array(stdDistortionRegular),\n",
    "               'cond_mean': meanConditionRegular,\n",
    "               'cond_std': np.array(stdConditionRegular)},\n",
    "    'spiked': {'nnz_test': nnz_test,\n",
    "               'distortion_mean': meanDistortion,\n",
    "               'distortion_std': np.array(stdDistortion),\n",
    "               'cond_mean': meanCondition,\n",
    "               'cond_std': np.array(stdCondition)}\n",
    "}"
   ]
  },
  {
   "cell_type": "code",
   "execution_count": 43,
   "metadata": {},
   "outputs": [],
   "source": [
    "f = open('riley_img/plot_data.pkl', 'wb')\n",
    "pkl.dump(results, f)\n",
    "f.close()"
   ]
  },
  {
   "cell_type": "code",
   "execution_count": 47,
   "metadata": {},
   "outputs": [],
   "source": [
    "import time\n",
    "import parla as rla"
   ]
  },
  {
   "cell_type": "code",
   "execution_count": 51,
   "metadata": {},
   "outputs": [
    {
     "name": "stdout",
     "output_type": "stream",
     "text": [
      "k = 4\n",
      "5.0732128620147705\n",
      "2.7994303703308105\n",
      "2.7195773124694824\n",
      "2.5841827392578125\n",
      "2.592409610748291\n",
      "k = 5\n",
      "2.8426930904388428\n",
      "2.7373080253601074\n",
      "2.660266399383545\n",
      "2.7920279502868652\n",
      "2.864082098007202\n",
      "k = 6\n",
      "3.1011593341827393\n",
      "3.0058090686798096\n",
      "2.930938482284546\n",
      "2.9714996814727783\n",
      "2.8826022148132324\n",
      "k = 7\n",
      "3.009521722793579\n",
      "2.9894630908966064\n",
      "3.063140630722046\n",
      "2.9822778701782227\n",
      "2.9301578998565674\n",
      "k = 8\n",
      "2.980290412902832\n",
      "3.007723093032837\n",
      "2.9705684185028076\n",
      "2.9661026000976562\n",
      "3.0683047771453857\n",
      "k = 9\n",
      "3.125851631164551\n",
      "3.235771894454956\n",
      "3.1018788814544678\n"
     ]
    },
    {
     "ename": "KeyboardInterrupt",
     "evalue": "",
     "output_type": "error",
     "traceback": [
      "\u001b[0;31m---------------------------------------------------------------------------\u001b[0m",
      "\u001b[0;31mKeyboardInterrupt\u001b[0m                         Traceback (most recent call last)",
      "\u001b[0;32m<ipython-input-51-62b372f54b92>\u001b[0m in \u001b[0;36m<module>\u001b[0;34m\u001b[0m\n\u001b[1;32m      5\u001b[0m         \u001b[0mS\u001b[0m \u001b[0;34m=\u001b[0m \u001b[0mrla\u001b[0m\u001b[0;34m.\u001b[0m\u001b[0msjlt_operator\u001b[0m\u001b[0;34m(\u001b[0m\u001b[0msketch_height\u001b[0m\u001b[0;34m,\u001b[0m \u001b[0mdata_matrix_height\u001b[0m\u001b[0;34m,\u001b[0m \u001b[0mrng\u001b[0m\u001b[0;34m,\u001b[0m \u001b[0mvec_nnz\u001b[0m\u001b[0;34m=\u001b[0m\u001b[0mk\u001b[0m\u001b[0;34m)\u001b[0m\u001b[0;34m\u001b[0m\u001b[0;34m\u001b[0m\u001b[0m\n\u001b[1;32m      6\u001b[0m         \u001b[0mtic\u001b[0m \u001b[0;34m=\u001b[0m \u001b[0mtime\u001b[0m\u001b[0;34m.\u001b[0m\u001b[0mtime\u001b[0m\u001b[0;34m(\u001b[0m\u001b[0;34m)\u001b[0m\u001b[0;34m\u001b[0m\u001b[0;34m\u001b[0m\u001b[0m\n\u001b[0;32m----> 7\u001b[0;31m         \u001b[0mtemp\u001b[0m \u001b[0;34m=\u001b[0m \u001b[0mS\u001b[0m \u001b[0;34m@\u001b[0m \u001b[0mX\u001b[0m\u001b[0;34m\u001b[0m\u001b[0;34m\u001b[0m\u001b[0m\n\u001b[0m\u001b[1;32m      8\u001b[0m         \u001b[0mtoc\u001b[0m \u001b[0;34m=\u001b[0m \u001b[0mtime\u001b[0m\u001b[0;34m.\u001b[0m\u001b[0mtime\u001b[0m\u001b[0;34m(\u001b[0m\u001b[0;34m)\u001b[0m\u001b[0;34m\u001b[0m\u001b[0;34m\u001b[0m\u001b[0m\n\u001b[1;32m      9\u001b[0m         \u001b[0mprint\u001b[0m\u001b[0;34m(\u001b[0m\u001b[0mtoc\u001b[0m \u001b[0;34m-\u001b[0m \u001b[0mtic\u001b[0m\u001b[0;34m)\u001b[0m\u001b[0;34m\u001b[0m\u001b[0;34m\u001b[0m\u001b[0m\n",
      "\u001b[0;32m~/anaconda3/envs/rla38a/lib/python3.8/site-packages/scipy/sparse/base.py\u001b[0m in \u001b[0;36m__matmul__\u001b[0;34m(self, other)\u001b[0m\n\u001b[1;32m    558\u001b[0m             raise ValueError(\"Scalar operands are not allowed, \"\n\u001b[1;32m    559\u001b[0m                              \"use '*' instead\")\n\u001b[0;32m--> 560\u001b[0;31m         \u001b[0;32mreturn\u001b[0m \u001b[0mself\u001b[0m\u001b[0;34m.\u001b[0m\u001b[0m__mul__\u001b[0m\u001b[0;34m(\u001b[0m\u001b[0mother\u001b[0m\u001b[0;34m)\u001b[0m\u001b[0;34m\u001b[0m\u001b[0;34m\u001b[0m\u001b[0m\n\u001b[0m\u001b[1;32m    561\u001b[0m \u001b[0;34m\u001b[0m\u001b[0m\n\u001b[1;32m    562\u001b[0m     \u001b[0;32mdef\u001b[0m \u001b[0m__rmatmul__\u001b[0m\u001b[0;34m(\u001b[0m\u001b[0mself\u001b[0m\u001b[0;34m,\u001b[0m \u001b[0mother\u001b[0m\u001b[0;34m)\u001b[0m\u001b[0;34m:\u001b[0m\u001b[0;34m\u001b[0m\u001b[0;34m\u001b[0m\u001b[0m\n",
      "\u001b[0;32m~/anaconda3/envs/rla38a/lib/python3.8/site-packages/scipy/sparse/base.py\u001b[0m in \u001b[0;36m__mul__\u001b[0;34m(self, other)\u001b[0m\n\u001b[1;32m    469\u001b[0m                 \u001b[0;32mreturn\u001b[0m \u001b[0mself\u001b[0m\u001b[0;34m.\u001b[0m\u001b[0m_mul_vector\u001b[0m\u001b[0;34m(\u001b[0m\u001b[0mother\u001b[0m\u001b[0;34m.\u001b[0m\u001b[0mravel\u001b[0m\u001b[0;34m(\u001b[0m\u001b[0;34m)\u001b[0m\u001b[0;34m)\u001b[0m\u001b[0;34m.\u001b[0m\u001b[0mreshape\u001b[0m\u001b[0;34m(\u001b[0m\u001b[0mM\u001b[0m\u001b[0;34m,\u001b[0m \u001b[0;36m1\u001b[0m\u001b[0;34m)\u001b[0m\u001b[0;34m\u001b[0m\u001b[0;34m\u001b[0m\u001b[0m\n\u001b[1;32m    470\u001b[0m             \u001b[0;32melif\u001b[0m \u001b[0mother\u001b[0m\u001b[0;34m.\u001b[0m\u001b[0mndim\u001b[0m \u001b[0;34m==\u001b[0m \u001b[0;36m2\u001b[0m \u001b[0;32mand\u001b[0m \u001b[0mother\u001b[0m\u001b[0;34m.\u001b[0m\u001b[0mshape\u001b[0m\u001b[0;34m[\u001b[0m\u001b[0;36m0\u001b[0m\u001b[0;34m]\u001b[0m \u001b[0;34m==\u001b[0m \u001b[0mN\u001b[0m\u001b[0;34m:\u001b[0m\u001b[0;34m\u001b[0m\u001b[0;34m\u001b[0m\u001b[0m\n\u001b[0;32m--> 471\u001b[0;31m                 \u001b[0;32mreturn\u001b[0m \u001b[0mself\u001b[0m\u001b[0;34m.\u001b[0m\u001b[0m_mul_multivector\u001b[0m\u001b[0;34m(\u001b[0m\u001b[0mother\u001b[0m\u001b[0;34m)\u001b[0m\u001b[0;34m\u001b[0m\u001b[0;34m\u001b[0m\u001b[0m\n\u001b[0m\u001b[1;32m    472\u001b[0m \u001b[0;34m\u001b[0m\u001b[0m\n\u001b[1;32m    473\u001b[0m         \u001b[0;32mif\u001b[0m \u001b[0misscalarlike\u001b[0m\u001b[0;34m(\u001b[0m\u001b[0mother\u001b[0m\u001b[0;34m)\u001b[0m\u001b[0;34m:\u001b[0m\u001b[0;34m\u001b[0m\u001b[0;34m\u001b[0m\u001b[0m\n",
      "\u001b[0;32m~/anaconda3/envs/rla38a/lib/python3.8/site-packages/scipy/sparse/compressed.py\u001b[0m in \u001b[0;36m_mul_multivector\u001b[0;34m(self, other)\u001b[0m\n\u001b[1;32m    489\u001b[0m         \u001b[0;31m# csr_matvecs or csc_matvecs\u001b[0m\u001b[0;34m\u001b[0m\u001b[0;34m\u001b[0m\u001b[0;34m\u001b[0m\u001b[0m\n\u001b[1;32m    490\u001b[0m         \u001b[0mfn\u001b[0m \u001b[0;34m=\u001b[0m \u001b[0mgetattr\u001b[0m\u001b[0;34m(\u001b[0m\u001b[0m_sparsetools\u001b[0m\u001b[0;34m,\u001b[0m \u001b[0mself\u001b[0m\u001b[0;34m.\u001b[0m\u001b[0mformat\u001b[0m \u001b[0;34m+\u001b[0m \u001b[0;34m'_matvecs'\u001b[0m\u001b[0;34m)\u001b[0m\u001b[0;34m\u001b[0m\u001b[0;34m\u001b[0m\u001b[0m\n\u001b[0;32m--> 491\u001b[0;31m         fn(M, N, n_vecs, self.indptr, self.indices, self.data,\n\u001b[0m\u001b[1;32m    492\u001b[0m            other.ravel(), result.ravel())\n\u001b[1;32m    493\u001b[0m \u001b[0;34m\u001b[0m\u001b[0m\n",
      "\u001b[0;31mKeyboardInterrupt\u001b[0m: "
     ]
    }
   ],
   "source": [
    "rng = np.random.default_rng(42)\n",
    "for k in range(4,17):\n",
    "    print(f'k = {k}')\n",
    "    for i in range(5):\n",
    "        S = rla.sjlt_operator(sketch_height, data_matrix_height, rng, vec_nnz=k)\n",
    "        tic = time.time()\n",
    "        temp = S @ X\n",
    "        toc = time.time()\n",
    "        print(toc - tic)"
   ]
  },
  {
   "cell_type": "code",
   "execution_count": null,
   "metadata": {},
   "outputs": [],
   "source": []
  }
 ],
 "metadata": {
  "kernelspec": {
   "display_name": "Python 3",
   "language": "python",
   "name": "python3"
  },
  "language_info": {
   "codemirror_mode": {
    "name": "ipython",
    "version": 3
   },
   "file_extension": ".py",
   "mimetype": "text/x-python",
   "name": "python",
   "nbconvert_exporter": "python",
   "pygments_lexer": "ipython3",
   "version": "3.8.11"
  }
 },
 "nbformat": 4,
 "nbformat_minor": 5
}
